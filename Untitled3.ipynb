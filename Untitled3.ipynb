{
 "cells": [
  {
   "cell_type": "code",
   "execution_count": 1,
   "id": "35608cf2",
   "metadata": {},
   "outputs": [
    {
     "ename": "Exception",
     "evalue": "Invalid boundary mesh (overlapping facets) on surface 14 surface 14",
     "output_type": "error",
     "traceback": [
      "\u001b[1;31m---------------------------------------------------------------------------\u001b[0m",
      "\u001b[1;31mException\u001b[0m                                 Traceback (most recent call last)",
      "Cell \u001b[1;32mIn[1], line 9\u001b[0m\n\u001b[0;32m      4\u001b[0m gmsh\u001b[38;5;241m.\u001b[39mmodel\u001b[38;5;241m.\u001b[39madd(\u001b[38;5;124m\"\u001b[39m\u001b[38;5;124mmodelo_1\u001b[39m\u001b[38;5;124m\"\u001b[39m)\n\u001b[0;32m      6\u001b[0m gmsh\u001b[38;5;241m.\u001b[39mmerge(\u001b[38;5;124m\"\u001b[39m\u001b[38;5;124mmodel.step\u001b[39m\u001b[38;5;124m\"\u001b[39m)\n\u001b[1;32m----> 9\u001b[0m \u001b[43mgmsh\u001b[49m\u001b[38;5;241;43m.\u001b[39;49m\u001b[43mmodel\u001b[49m\u001b[38;5;241;43m.\u001b[39;49m\u001b[43mmesh\u001b[49m\u001b[38;5;241;43m.\u001b[39;49m\u001b[43mgenerate\u001b[49m\u001b[43m(\u001b[49m\u001b[38;5;241;43m3\u001b[39;49m\u001b[43m)\u001b[49m\n\u001b[0;32m     11\u001b[0m gmsh\u001b[38;5;241m.\u001b[39mmodel\u001b[38;5;241m.\u001b[39mgeo\u001b[38;5;241m.\u001b[39msynchronize()\n\u001b[0;32m     12\u001b[0m gmsh\u001b[38;5;241m.\u001b[39mfltk\u001b[38;5;241m.\u001b[39mrun()\n",
      "File \u001b[1;32m~\\Miniconda3\\lib\\site-packages\\gmsh.py:2046\u001b[0m, in \u001b[0;36mmodel.mesh.generate\u001b[1;34m(dim)\u001b[0m\n\u001b[0;32m   2042\u001b[0m lib\u001b[38;5;241m.\u001b[39mgmshModelMeshGenerate(\n\u001b[0;32m   2043\u001b[0m     c_int(dim),\n\u001b[0;32m   2044\u001b[0m     byref(ierr))\n\u001b[0;32m   2045\u001b[0m \u001b[38;5;28;01mif\u001b[39;00m ierr\u001b[38;5;241m.\u001b[39mvalue \u001b[38;5;241m!=\u001b[39m \u001b[38;5;241m0\u001b[39m:\n\u001b[1;32m-> 2046\u001b[0m     \u001b[38;5;28;01mraise\u001b[39;00m \u001b[38;5;167;01mException\u001b[39;00m(logger\u001b[38;5;241m.\u001b[39mgetLastError())\n",
      "\u001b[1;31mException\u001b[0m: Invalid boundary mesh (overlapping facets) on surface 14 surface 14"
     ]
    }
   ],
   "source": [
    "import gmsh\n",
    "gmsh.initialize()\n",
    "gmsh.option.setNumber(\"General.Terminal\", 1)\n",
    "gmsh.model.add(\"modelo_1\")\n",
    "\n",
    "gmsh.merge(\"model.step\")\n",
    "\n",
    "\n",
    "gmsh.model.mesh.generate(3)\n",
    "\n",
    "gmsh.model.geo.synchronize()\n",
    "gmsh.fltk.run()\n",
    "gmsh.finalize()"
   ]
  },
  {
   "cell_type": "code",
   "execution_count": null,
   "id": "df8285c5",
   "metadata": {},
   "outputs": [],
   "source": []
  }
 ],
 "metadata": {
  "kernelspec": {
   "display_name": "Python 3 (ipykernel)",
   "language": "python",
   "name": "python3"
  },
  "language_info": {
   "codemirror_mode": {
    "name": "ipython",
    "version": 3
   },
   "file_extension": ".py",
   "mimetype": "text/x-python",
   "name": "python",
   "nbconvert_exporter": "python",
   "pygments_lexer": "ipython3",
   "version": "3.9.12"
  }
 },
 "nbformat": 4,
 "nbformat_minor": 5
}
