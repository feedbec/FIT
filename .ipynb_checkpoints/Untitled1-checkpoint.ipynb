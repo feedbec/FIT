{
 "cells": [
  {
   "cell_type": "code",
   "execution_count": 1,
   "id": "805ed01e",
   "metadata": {},
   "outputs": [],
   "source": [
    "import numpy as np\n",
    "import pygmsh"
   ]
  },
  {
   "cell_type": "code",
   "execution_count": 2,
   "id": "2eb6c4f4",
   "metadata": {},
   "outputs": [],
   "source": [
    "# Clear previous model\n",
    "mesh_size = 0.01\n",
    "geom = pygmsh.occ.Geometry()\n",
    "model3D = geom.__enter__()\n",
    "box0 = model3D.add_box([0.0, 0, 0], [1, 1, 1], mesh_size)\n",
    "box1 = model3D.add_box([0.5, 0.5, 1], [0.5, 0.5, 1], mesh_size)\n",
    "ball = model3D.add_ball([0.5, 0.5, 0.5], 0.25, mesh_size)"
   ]
  },
  {
   "cell_type": "code",
   "execution_count": 3,
   "id": "a69e365c",
   "metadata": {},
   "outputs": [],
   "source": [
    "union = model3D.boolean_union([box0, box1])\n",
    "union_minus_ball = model3D.boolean_fragments(union, ball)\n",
    "model3D.synchronize()"
   ]
  },
  {
   "cell_type": "code",
   "execution_count": 4,
   "id": "948c71b5",
   "metadata": {},
   "outputs": [],
   "source": [
    "model3D.add_physical(union, \"Union\")\n",
    "model3D.add_physical(union_minus_ball, \"Union minus ball\")"
   ]
  },
  {
   "cell_type": "code",
   "execution_count": 5,
   "id": "cd1d0e80",
   "metadata": {},
   "outputs": [],
   "source": [
    "mesh = geom.generate_mesh(dim=3)"
   ]
  },
  {
   "cell_type": "code",
   "execution_count": 6,
   "id": "512737cb",
   "metadata": {},
   "outputs": [],
   "source": [
    "pygmsh.write(\"box_ball.msh\")"
   ]
  },
  {
   "cell_type": "code",
   "execution_count": 7,
   "id": "8d27b09f",
   "metadata": {},
   "outputs": [
    {
     "data": {
      "text/plain": [
       "array([[100,   0,  99,  97],\n",
       "       [100,  98,   0,  95],\n",
       "       [  0,  96,  98, 100],\n",
       "       ...,\n",
       "       [305, 294, 289, 298],\n",
       "       [125, 318, 142,  22],\n",
       "       [142, 318, 125, 133]], dtype=uint64)"
      ]
     },
     "execution_count": 7,
     "metadata": {},
     "output_type": "execute_result"
    }
   ],
   "source": [
    "mesh.cells[2].data"
   ]
  },
  {
   "cell_type": "code",
   "execution_count": 8,
   "id": "e35ff14a",
   "metadata": {},
   "outputs": [
    {
     "data": {
      "text/plain": [
       "<meshio mesh object>\n",
       "  Number of points: 320\n",
       "  Number of cells:\n",
       "    line: 102\n",
       "    triangle: 592\n",
       "    tetra: 932\n",
       "    vertex: 16\n",
       "  Cell sets: Union, Union minus ball"
      ]
     },
     "execution_count": 8,
     "metadata": {},
     "output_type": "execute_result"
    }
   ],
   "source": [
    "mesh"
   ]
  },
  {
   "cell_type": "code",
   "execution_count": null,
   "id": "b88cf612",
   "metadata": {},
   "outputs": [],
   "source": []
  }
 ],
 "metadata": {
  "kernelspec": {
   "display_name": "Python 3 (ipykernel)",
   "language": "python",
   "name": "python3"
  },
  "language_info": {
   "codemirror_mode": {
    "name": "ipython",
    "version": 3
   },
   "file_extension": ".py",
   "mimetype": "text/x-python",
   "name": "python",
   "nbconvert_exporter": "python",
   "pygments_lexer": "ipython3",
   "version": "3.9.12"
  }
 },
 "nbformat": 4,
 "nbformat_minor": 5
}
