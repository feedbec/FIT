{
 "cells": [
  {
   "cell_type": "code",
   "execution_count": 1,
   "id": "8087d75d",
   "metadata": {},
   "outputs": [],
   "source": [
    "# ellpsoid with holes\n",
    "import pygmsh\n",
    "\n",
    "with pygmsh.occ.Geometry() as geom:\n",
    "    geom.characteristic_length_max = 0.01\n",
    "    box = geom.add_box([0.0, 0.0, 0.0], [1.0, 1.0, 1.0])\n",
    "    wire = geom.add_cylinder([0.5, 0.5, 0.2], [0.0, 0.0, 0.6], 0.05)\n",
    "#    ball = geom.add_ball([0.5, 0.5, 0.5], 0.25)\n",
    "    box_minus_wire = geom.boolean_fragments(box, wire)\n",
    "    geom.add_physical(box_minus_wire, \"Air\")\n",
    "    geom.add_physical(wire, \"Wire\")\n",
    "\n",
    "    mesh = geom.generate_mesh()\n",
    "    pygmsh.write(\"wire.msh\")"
   ]
  },
  {
   "cell_type": "code",
   "execution_count": null,
   "id": "b9ec7aee",
   "metadata": {},
   "outputs": [],
   "source": []
  }
 ],
 "metadata": {
  "kernelspec": {
   "display_name": "Python 3 (ipykernel)",
   "language": "python",
   "name": "python3"
  },
  "language_info": {
   "codemirror_mode": {
    "name": "ipython",
    "version": 3
   },
   "file_extension": ".py",
   "mimetype": "text/x-python",
   "name": "python",
   "nbconvert_exporter": "python",
   "pygments_lexer": "ipython3",
   "version": "3.9.12"
  }
 },
 "nbformat": 4,
 "nbformat_minor": 5
}
