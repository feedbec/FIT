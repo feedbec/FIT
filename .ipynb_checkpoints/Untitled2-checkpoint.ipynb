{
 "cells": [
  {
   "cell_type": "code",
   "execution_count": 1,
   "id": "b0d43616",
   "metadata": {},
   "outputs": [],
   "source": [
    "# ellpsoid with holes\n",
    "import pygmsh\n",
    "import numpy as np\n",
    "\n",
    "with pygmsh.occ.Geometry() as geom:\n",
    "    geom.characteristic_length_max = 0.05\n",
    "    box = geom.add_box([0.0, 0.0, 0.0], [1.0, 1.0, 1.0])\n",
    "    ferrite = geom.add_box([0.0, 0.0, 0.0], [0.25, 1.0, 0.5])\n",
    "#    wire = geom.add_torus([0.5, 0.5, 0.5], 0.05, 2.0)\n",
    "\n",
    "#    wire = geom.add_cylinder([0.5, 0.5, 0.2], [0.0, 0.0, 0.6], 0.1)\n",
    "#    ball = geom.add_ball([0.5, 0.5, 0.5], 0.25)\n",
    "    box_minus_ferrite = geom.boolean_fragments(box, ferrite)\n",
    "    geom.add_physical(box, \"Air\")\n",
    "    geom.add_physical(box_minus_ferrite, \"Ferrite\")\n",
    "\n",
    "    mesh = geom.generate_mesh()\n",
    "    pygmsh.write(\"wire.msh\")"
   ]
  },
  {
   "cell_type": "code",
   "execution_count": null,
   "id": "8a5ea1c7",
   "metadata": {},
   "outputs": [],
   "source": []
  }
 ],
 "metadata": {
  "kernelspec": {
   "display_name": "Python 3 (ipykernel)",
   "language": "python",
   "name": "python3"
  },
  "language_info": {
   "codemirror_mode": {
    "name": "ipython",
    "version": 3
   },
   "file_extension": ".py",
   "mimetype": "text/x-python",
   "name": "python",
   "nbconvert_exporter": "python",
   "pygments_lexer": "ipython3",
   "version": "3.9.12"
  }
 },
 "nbformat": 4,
 "nbformat_minor": 5
}
