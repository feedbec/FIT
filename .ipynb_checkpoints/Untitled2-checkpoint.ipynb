{
 "cells": [
  {
   "cell_type": "code",
   "execution_count": 1,
   "id": "b645a57e",
   "metadata": {},
   "outputs": [],
   "source": [
    "# ellpsoid with holes\n",
    "import pygmsh\n",
    "import numpy as np\n",
    "\n",
    "with pygmsh.occ.Geometry() as geom:\n",
    "    geom.characteristic_length_max = 0.05\n",
    "    box = geom.add_box([0.0, 0.0, 0.0], [1.0, 1.0, 1.0])\n",
    "    ferrite = geom.add_box([0.0, 0.0, 0.0], [1.0, 1.0, 0.25])\n",
    "    wire = geom.add_torus([0.5, 0.5, 0.35], 0.25, 0.02, 1.95 * np.pi)\n",
    "\n",
    "    box_minus_ferrite = geom.boolean_fragments(box, ferrite)\n",
    "    box_minus_ferrite_wire = geom.boolean_fragments(box_minus_ferrite, wire)\n",
    "\n",
    "    geom.add_physical(box_minus_ferrite_wire, \"Air\")\n",
    "    geom.add_physical(ferrite, \"Ferrite\")\n",
    "    geom.add_physical(wire, \"Wire\")\n",
    "\n",
    "    mesh = geom.generate_mesh()\n",
    "    pygmsh.write(\"wire.msh\")"
   ]
  },
  {
   "cell_type": "code",
   "execution_count": null,
   "id": "1d8e08cd",
   "metadata": {},
   "outputs": [],
   "source": []
  }
 ],
 "metadata": {
  "kernelspec": {
   "display_name": "Python 3 (ipykernel)",
   "language": "python",
   "name": "python3"
  },
  "language_info": {
   "codemirror_mode": {
    "name": "ipython",
    "version": 3
   },
   "file_extension": ".py",
   "mimetype": "text/x-python",
   "name": "python",
   "nbconvert_exporter": "python",
   "pygments_lexer": "ipython3",
   "version": "3.9.12"
  }
 },
 "nbformat": 4,
 "nbformat_minor": 5
}
