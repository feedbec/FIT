{
 "cells": [
  {
   "cell_type": "code",
   "execution_count": 1,
   "id": "5c332d17",
   "metadata": {},
   "outputs": [],
   "source": [
    "import numpy as np\n",
    "import pygmsh"
   ]
  },
  {
   "cell_type": "code",
   "execution_count": 2,
   "id": "e0e85964",
   "metadata": {},
   "outputs": [],
   "source": [
    "# Clear previous model\n",
    "#mesh_size = 0.05\n",
    "geom = pygmsh.occ.Geometry()\n",
    "geom.characteristic_length_max = 0.001\n",
    "model3D = geom.__enter__()\n",
    "box0 = model3D.add_box([0.0, 0, 0], [1, 1, 1])\n",
    "box1 = model3D.add_box([0.5, 0.5, 1], [0.5, 0.5, 1])\n",
    "ball = model3D.add_ball([0.5, 0.5, 0.5], 0.25)"
   ]
  },
  {
   "cell_type": "code",
   "execution_count": 3,
   "id": "43f4bf66",
   "metadata": {},
   "outputs": [],
   "source": [
    "union = model3D.boolean_union([box0, box1])\n",
    "union_minus_ball = model3D.boolean_fragments(union, ball)\n",
    "model3D.synchronize()"
   ]
  },
  {
   "cell_type": "code",
   "execution_count": 4,
   "id": "12ea63f3",
   "metadata": {},
   "outputs": [],
   "source": [
    "model3D.add_physical(union, \"Union\")\n",
    "model3D.add_physical(union_minus_ball, \"Union minus ball\")"
   ]
  },
  {
   "cell_type": "code",
   "execution_count": 5,
   "id": "5c0044a0",
   "metadata": {},
   "outputs": [],
   "source": [
    "mesh = geom.generate_mesh(dim=3)"
   ]
  },
  {
   "cell_type": "code",
   "execution_count": 6,
   "id": "c49291e8",
   "metadata": {},
   "outputs": [],
   "source": [
    "pygmsh.write(\"box_ball.msh\")"
   ]
  },
  {
   "cell_type": "code",
   "execution_count": 7,
   "id": "76e2db7e",
   "metadata": {},
   "outputs": [
    {
     "data": {
      "text/plain": [
       "<meshio mesh object>\n",
       "  Number of points: 334\n",
       "  Number of cells:\n",
       "    line: 97\n",
       "    triangle: 618\n",
       "    tetra: 1026\n",
       "    vertex: 16\n",
       "  Cell sets: Union, Union minus ball"
      ]
     },
     "execution_count": 7,
     "metadata": {},
     "output_type": "execute_result"
    }
   ],
   "source": [
    "mesh"
   ]
  },
  {
   "cell_type": "code",
   "execution_count": null,
   "id": "cba55aa9",
   "metadata": {},
   "outputs": [],
   "source": []
  }
 ],
 "metadata": {
  "kernelspec": {
   "display_name": "Python 3 (ipykernel)",
   "language": "python",
   "name": "python3"
  },
  "language_info": {
   "codemirror_mode": {
    "name": "ipython",
    "version": 3
   },
   "file_extension": ".py",
   "mimetype": "text/x-python",
   "name": "python",
   "nbconvert_exporter": "python",
   "pygments_lexer": "ipython3",
   "version": "3.9.12"
  }
 },
 "nbformat": 4,
 "nbformat_minor": 5
}
