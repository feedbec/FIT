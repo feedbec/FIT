{
 "cells": [
  {
   "cell_type": "code",
   "execution_count": 11,
   "id": "50e06ee9",
   "metadata": {},
   "outputs": [],
   "source": [
    "import numpy as np\n",
    "import pygmsh"
   ]
  },
  {
   "cell_type": "code",
   "execution_count": 12,
   "id": "e5b942e7",
   "metadata": {},
   "outputs": [],
   "source": [
    "# Clear previous model\n",
    "mesh_size = 0.1\n",
    "geom = pygmsh.occ.Geometry()\n",
    "model3D = geom.__enter__()\n",
    "box0 = model3D.add_box([0.0, 0, 0], [1, 1, 1])\n",
    "#box1 = model3D.add_box([0.5, 0.5, 1], [0.5, 0.5, 1])\n",
    "#ball = model3D.add_ball([0.5, 0.5, 0.5], 0.25)"
   ]
  },
  {
   "cell_type": "code",
   "execution_count": 13,
   "id": "25eaa972",
   "metadata": {},
   "outputs": [],
   "source": [
    "#union = model3D.boolean_union([box0, box1])\n",
    "#union_minus_ball = model3D.boolean_fragments(union, ball)\n",
    "model3D.synchronize()"
   ]
  },
  {
   "cell_type": "code",
   "execution_count": 14,
   "id": "e71d2b7c",
   "metadata": {},
   "outputs": [],
   "source": [
    "#model3D.add_physical(union, \"Union\")\n",
    "#model3D.add_physical(union_minus_ball, \"Union minus ball\")"
   ]
  },
  {
   "cell_type": "code",
   "execution_count": 15,
   "id": "87ad0dd3",
   "metadata": {},
   "outputs": [],
   "source": [
    "mesh = geom.generate_mesh(dim=3)"
   ]
  },
  {
   "cell_type": "code",
   "execution_count": 16,
   "id": "dd3061ae",
   "metadata": {},
   "outputs": [],
   "source": [
    "pygmsh.write(\"test.msh\")"
   ]
  },
  {
   "cell_type": "code",
   "execution_count": 17,
   "id": "2942fea4",
   "metadata": {},
   "outputs": [
    {
     "data": {
      "text/plain": [
       "array([[154, 222, 275, 289],\n",
       "       [230, 275, 217, 312],\n",
       "       [198, 180, 280, 298],\n",
       "       ...,\n",
       "       [333, 310, 318, 285],\n",
       "       [331, 321, 309, 284],\n",
       "       [331, 309, 321, 273]], dtype=uint64)"
      ]
     },
     "execution_count": 17,
     "metadata": {},
     "output_type": "execute_result"
    }
   ],
   "source": [
    "mesh.cells[2].data"
   ]
  },
  {
   "cell_type": "code",
   "execution_count": 7,
   "id": "57638d09",
   "metadata": {},
   "outputs": [
    {
     "data": {
      "text/plain": [
       "<meshio mesh object>\n",
       "  Number of points: 339\n",
       "  Number of cells:\n",
       "    line: 72\n",
       "    triangle: 540\n",
       "    tetra: 1125\n",
       "    vertex: 8"
      ]
     },
     "execution_count": 7,
     "metadata": {},
     "output_type": "execute_result"
    }
   ],
   "source": [
    "mesh"
   ]
  },
  {
   "cell_type": "code",
   "execution_count": null,
   "id": "7e922756",
   "metadata": {},
   "outputs": [],
   "source": []
  }
 ],
 "metadata": {
  "kernelspec": {
   "display_name": "Python 3 (ipykernel)",
   "language": "python",
   "name": "python3"
  },
  "language_info": {
   "codemirror_mode": {
    "name": "ipython",
    "version": 3
   },
   "file_extension": ".py",
   "mimetype": "text/x-python",
   "name": "python",
   "nbconvert_exporter": "python",
   "pygments_lexer": "ipython3",
   "version": "3.9.12"
  }
 },
 "nbformat": 4,
 "nbformat_minor": 5
}
